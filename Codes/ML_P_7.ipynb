{
  "nbformat": 4,
  "nbformat_minor": 0,
  "metadata": {
    "colab": {
      "provenance": []
    },
    "kernelspec": {
      "name": "python3",
      "display_name": "Python 3"
    },
    "language_info": {
      "name": "python"
    }
  },
  "cells": [
    {
      "cell_type": "code",
      "source": [
        "import pandas as pd\n",
        "\n",
        "# Load the dataset with appropriate encoding\n",
        "data_frame = pd.read_csv(\"/content/spamSMS.csv\", encoding=\"ISO-8859-1\")"
      ],
      "metadata": {
        "id": "yVuiCLDwZ2Yh"
      },
      "execution_count": 1,
      "outputs": []
    },
    {
      "cell_type": "code",
      "source": [
        "# Keep only relevant columns and rename them for clarity\n",
        "data_frame = data_frame[['v1', 'v2']]\n",
        "data_frame = data_frame.rename(columns={'v1': 'label', 'v2': 'message'})\n",
        "data_frame['label'] = data_frame['label'].map({'ham': 1, 'spam': 0})"
      ],
      "metadata": {
        "id": "OI17ZkpuZ4lI"
      },
      "execution_count": 2,
      "outputs": []
    },
    {
      "cell_type": "code",
      "source": [
        "# Calculate the percentage of spam and ham messages\n",
        "label_distribution = data_frame['label'].value_counts(normalize=True) * 100\n",
        "ham_ratio, spam_ratio = label_distribution\n",
        "\n",
        "print(f'Spam Messages Percentage: {spam_ratio:.2f}%')\n",
        "print(f'Ham Messages Percentage: {ham_ratio:.2f}%')"
      ],
      "metadata": {
        "colab": {
          "base_uri": "https://localhost:8080/"
        },
        "id": "F_1DDpUYZ7nd",
        "outputId": "f4b11430-bc0f-425c-bd96-de439ce82f6e"
      },
      "execution_count": 3,
      "outputs": [
        {
          "output_type": "stream",
          "name": "stdout",
          "text": [
            "Spam Messages Percentage: 13.41%\n",
            "Ham Messages Percentage: 86.59%\n"
          ]
        }
      ]
    },
    {
      "cell_type": "code",
      "source": [
        "from sklearn.feature_extraction.text import CountVectorizer\n",
        "\n",
        "# Create a vectorizer and transform the message data\n",
        "msg_vectorizer = CountVectorizer(max_features=500)\n",
        "transformed_messages = msg_vectorizer.fit_transform(data_frame['message'])\n",
        "features = msg_vectorizer.get_feature_names_out()\n",
        "transformed_array = transformed_messages.toarray()"
      ],
      "metadata": {
        "id": "1XlXhJEyZ-AJ"
      },
      "execution_count": 4,
      "outputs": []
    },
    {
      "cell_type": "code",
      "source": [
        "from sklearn.model_selection import train_test_split\n",
        "\n",
        "# Split the dataset into training and testing sets\n",
        "X_train, X_test, y_train, y_test = train_test_split(\n",
        "    transformed_array, data_frame['label'], test_size=0.3, random_state=101)"
      ],
      "metadata": {
        "id": "6wjkMyGbaAeU"
      },
      "execution_count": 5,
      "outputs": []
    },
    {
      "cell_type": "code",
      "source": [
        "from sklearn.metrics import accuracy_score\n",
        "from sklearn.svm import SVC\n",
        "from sklearn.preprocessing import StandardScaler\n",
        "\n",
        "# Scale the feature vectors\n",
        "feature_scaler = StandardScaler()\n",
        "X_train_scaled = feature_scaler.fit_transform(X_train)\n",
        "X_test_scaled = feature_scaler.transform(X_test)\n",
        "\n",
        "# Training and evaluating SVM with RBF kernel\n",
        "svm_classifier_rbf = SVC(kernel='rbf', C=1.0, gamma='scale')\n",
        "svm_classifier_rbf.fit(X_train_scaled, y_train)\n",
        "predictions_rbf = svm_classifier_rbf.predict(X_test_scaled)\n",
        "accuracy_rbf = accuracy_score(y_test, predictions_rbf)\n",
        "print(f'RBF Kernel SVM Accuracy: {accuracy_rbf:.2%}')\n",
        "\n",
        "# Training and evaluating SVM with linear kernel\n",
        "svm_classifier_linear = SVC(kernel='linear', C=1.0)\n",
        "svm_classifier_linear.fit(X_train_scaled, y_train)\n",
        "predictions_linear = svm_classifier_linear.predict(X_test_scaled)\n",
        "accuracy_linear = accuracy_score(y_test, predictions_linear)\n",
        "print(f'Linear Kernel SVM Accuracy: {accuracy_linear:.2%}')"
      ],
      "metadata": {
        "colab": {
          "base_uri": "https://localhost:8080/"
        },
        "id": "COGW66dvaDA0",
        "outputId": "3b9bd786-a5f2-4165-b188-732e4611610f"
      },
      "execution_count": 6,
      "outputs": [
        {
          "output_type": "stream",
          "name": "stdout",
          "text": [
            "RBF Kernel SVM Accuracy: 98.15%\n",
            "Linear Kernel SVM Accuracy: 97.67%\n"
          ]
        }
      ]
    },
    {
      "cell_type": "code",
      "source": [
        "from sklearn.model_selection import GridSearchCV, RandomizedSearchCV\n",
        "from scipy.stats import uniform\n",
        "\n",
        "# Parameter tuning using Grid and Randomized Search\n",
        "param_grid_rbf = {\n",
        "    'C': [1, 10, 100, 10000000],\n",
        "    'gamma': [0.001, 0.01, 0.1, 1],\n",
        "}\n",
        "\n",
        "grid_search_rbf = GridSearchCV(SVC(kernel='rbf'), param_grid_rbf, scoring='accuracy')\n",
        "grid_search_rbf.fit(X_train_scaled, y_train)\n",
        "print(\"Best Parameters via Grid Search:\", grid_search_rbf.best_params_)\n",
        "print(f\"Best Grid Search Accuracy: {grid_search_rbf.best_score_:.2%}\")\n",
        "\n",
        "param_distribution = {\n",
        "    'C': uniform(0.1, 10),\n",
        "    'gamma': uniform(0.0001, 0.1),\n",
        "}\n",
        "\n",
        "random_search_rbf = RandomizedSearchCV(SVC(kernel='rbf'), param_distribution, n_iter=10, scoring='accuracy', random_state=101)\n",
        "random_search_rbf.fit(X_train_scaled, y_train)\n",
        "print(\"\\nBest Parameters via Randomized Search:\", random_search_rbf.best_params_)\n",
        "print(f\"Best Randomized Search Accuracy: {random_search_rbf.best_score_:.2%}\")"
      ],
      "metadata": {
        "colab": {
          "base_uri": "https://localhost:8080/"
        },
        "id": "3MveSWjdaGeZ",
        "outputId": "b01586e9-8b5a-4da7-bb0d-679a6758947a"
      },
      "execution_count": 7,
      "outputs": [
        {
          "output_type": "stream",
          "name": "stdout",
          "text": [
            "Best Parameters via Grid Search: {'C': 10, 'gamma': 0.001}\n",
            "Best Grid Search Accuracy: 98.15%\n",
            "\n",
            "Best Parameters via Randomized Search: {'C': 7.315438617683046, 'gamma': 0.01909389542047968}\n",
            "Best Randomized Search Accuracy: 90.67%\n"
          ]
        }
      ]
    },
    {
      "cell_type": "code",
      "source": [
        "# Evaluation of the best models\n",
        "best_grid_model = grid_search_rbf.best_estimator_\n",
        "predictions_grid = best_grid_model.predict(X_test_scaled)\n",
        "accuracy_grid = accuracy_score(y_test, predictions_grid)\n",
        "print(f\"\\nGrid Search Test Accuracy: {accuracy_grid:.2%}\")\n",
        "\n",
        "best_random_model = random_search_rbf.best_estimator_\n",
        "predictions_random = best_random_model.predict(X_test_scaled)\n",
        "accuracy_random = accuracy_score(y_test, predictions_random)\n",
        "print(f\"Randomized Search Test Accuracy: {accuracy_random:.2%}\")"
      ],
      "metadata": {
        "colab": {
          "base_uri": "https://localhost:8080/"
        },
        "id": "UJu-iR5vaI5r",
        "outputId": "1427a88a-5a64-400f-c69d-a2f4cb725b25"
      },
      "execution_count": 8,
      "outputs": [
        {
          "output_type": "stream",
          "name": "stdout",
          "text": [
            "\n",
            "Grid Search Test Accuracy: 98.50%\n",
            "Randomized Search Test Accuracy: 92.88%\n"
          ]
        }
      ]
    },
    {
      "cell_type": "code",
      "execution_count": 9,
      "metadata": {
        "colab": {
          "base_uri": "https://localhost:8080/",
          "height": 668
        },
        "id": "SivZ6W8aUxYo",
        "outputId": "6fc0da3f-f5a5-4d7f-c092-5ebaca78d86a"
      },
      "outputs": [
        {
          "output_type": "stream",
          "name": "stdout",
          "text": [
            "\n",
            "Best Model Test Accuracy: 98.50%\n",
            "\n",
            "Best Model Confusion Matrix:\n",
            "[[ 184   24]\n",
            " [   1 1463]]\n"
          ]
        },
        {
          "output_type": "display_data",
          "data": {
            "text/plain": [
              "<Figure size 800x600 with 1 Axes>"
            ],
            "image/png": "[encoded data removed]"
          },
          "metadata": {}
        }
      ],
      "source": [
        "# Confusion matrix visualization\n",
        "from sklearn.metrics import confusion_matrix\n",
        "import matplotlib.pyplot as plt\n",
        "import seaborn as sns\n",
        "\n",
        "best_model_predictions = best_grid_model.predict(X_test_scaled)\n",
        "best_model_accuracy = accuracy_score(y_test, best_model_predictions)\n",
        "print(f\"\\nBest Model Test Accuracy: {best_model_accuracy:.2%}\")\n",
        "\n",
        "conf_matrix = confusion_matrix(y_test, best_model_predictions)\n",
        "print(\"\\nBest Model Confusion Matrix:\")\n",
        "print(conf_matrix)\n",
        "\n",
        "plt.figure(figsize=(8, 6))\n",
        "sns.heatmap(conf_matrix, annot=True, fmt='d', cmap='Blues', cbar=False)\n",
        "plt.xlabel('Predicted')\n",
        "plt.ylabel('Actual')\n",
        "plt.title('Best Model Confusion Matrix Visualization')\n",
        "plt.show()"
      ]
    },
    {
      "cell_type": "code",
      "source": [
        "# Confusion matrix for the model optimized with Randomized Search\n",
        "best_random_model_predictions = best_random_model.predict(X_test_scaled)\n",
        "best_random_model_accuracy = accuracy_score(y_test, best_random_model_predictions)\n",
        "print(f\"\\nBest Randomized Search Model Test Accuracy: {best_random_model_accuracy:.2%}\")\n",
        "\n",
        "conf_matrix_random = confusion_matrix(y_test, best_random_model_predictions)\n",
        "print(\"\\nConfusion Matrix for the Best Randomized Search Model:\")\n",
        "print(conf_matrix_random)\n",
        "\n",
        "plt.figure(figsize=(8, 6))\n",
        "sns.heatmap(conf_matrix_random, annot=True, fmt='d', cmap='Blues', cbar=False)\n",
        "plt.xlabel('Predicted')\n",
        "plt.ylabel('Actual')\n",
        "plt.title('Best Randomized Search Model Confusion Matrix Visualization')\n",
        "plt.show()\n"
      ],
      "metadata": {
        "colab": {
          "base_uri": "https://localhost:8080/",
          "height": 668
        },
        "id": "DXYVFy0HcHGC",
        "outputId": "21c15653-21c3-406e-f53b-40106c201a15"
      },
      "execution_count": 10,
      "outputs": [
        {
          "output_type": "stream",
          "name": "stdout",
          "text": [
            "\n",
            "Best Randomized Search Model Test Accuracy: 92.88%\n",
            "\n",
            "Confusion Matrix for the Best Randomized Search Model:\n",
            "[[  89  119]\n",
            " [   0 1464]]\n"
          ]
        },
        {
          "output_type": "display_data",
          "data": {
            "text/plain": [
              "<Figure size 800x600 with 1 Axes>"
            ],
            "image/png": "[encoded data removed]"
          },
          "metadata": {}
        }
      ]
    }
  ]
}